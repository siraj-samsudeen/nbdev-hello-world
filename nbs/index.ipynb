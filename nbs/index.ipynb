{
 "cells": [
  {
   "cell_type": "code",
   "execution_count": null,
   "metadata": {},
   "outputs": [],
   "source": [
    "# | hide\n",
    "# from nbdev_hello_world.first_notebook import baa"
   ]
  },
  {
   "cell_type": "markdown",
   "metadata": {},
   "source": [
    "# nbdev-hello-world\n",
    "\n",
    "> test nbdev on a fresh repo\n"
   ]
  },
  {
   "cell_type": "markdown",
   "metadata": {},
   "source": [
    "This file will become your README and also the index of your documentation.\n"
   ]
  },
  {
   "cell_type": "markdown",
   "metadata": {},
   "source": [
    "## Dev Env Setup"
   ]
  },
  {
   "cell_type": "markdown",
   "metadata": {},
   "source": [
    "1. Git clone the project\n",
    "2. pip install nbdev - this is for the global pip, not within the project virtualenv\n",
    "3. install quarto - if you try nbdev_install_quarto on Command Line, it will install Quarto or give you the link to download Quarto CLI\n",
    "4. Restart VSCode and try running nbdev_prepare - there should NOT be any errors\n",
    "5. Run nbdev_preview to start the documentation web server - this will open a preview of the docs generated from the notebooks\n",
    "6. Install VS Code extension nbdev\n",
    "7. Modify some notebook file and save - you should get a message about cleaned notebook - this is the extension running nbdev_clean to get rid of unwanted metadata. Check whether the docs preview is updated with your change. \n",
    "8. Each time you change the notebook, do a Run All - this will ensure that the corresponding code files are generated\n",
    "9. Run nbdev_prepare before each commit. \n",
    "10. Check the diff in Git Diff view - you should see a meaningful diff - commit the changes and do a git push to test whether CI/CD workflow is working. \n",
    "11. Open index notebook and do a Run All - you will get an error that the module nbdev-hello-world is NOT found\n",
    "12. do `pip install -e \".[dev]\"` from the project folder root - this should install the package in dev mode\n",
    "13. Run All on index notebook to check whether the error is gone. "
   ]
  },
  {
   "cell_type": "markdown",
   "metadata": {},
   "source": [
    "## Install\n"
   ]
  },
  {
   "cell_type": "markdown",
   "metadata": {},
   "source": [
    "\n",
    "```sh\n",
    "pip install nbdev_hello_world\n",
    "```\n"
   ]
  },
  {
   "cell_type": "markdown",
   "metadata": {},
   "source": [
    "## How to use\n"
   ]
  },
  {
   "cell_type": "markdown",
   "metadata": {},
   "source": [
    "Fill me in please! Don't forget code examples:\n"
   ]
  },
  {
   "cell_type": "code",
   "execution_count": null,
   "metadata": {},
   "outputs": [
    {
     "data": {
      "text/plain": [
       "2"
      ]
     },
     "execution_count": null,
     "metadata": {},
     "output_type": "execute_result"
    }
   ],
   "source": [
    "1 + 1"
   ]
  },
  {
   "cell_type": "code",
   "execution_count": null,
   "metadata": {},
   "outputs": [
    {
     "data": {
      "text/plain": [
       "'Nbdev'"
      ]
     },
     "execution_count": null,
     "metadata": {},
     "output_type": "execute_result"
    }
   ],
   "source": [
    "\"Nbdev\""
   ]
  }
 ],
 "metadata": {
  "kernelspec": {
   "display_name": "python3",
   "language": "python",
   "name": "python3"
  }
 },
 "nbformat": 4,
 "nbformat_minor": 4
}
